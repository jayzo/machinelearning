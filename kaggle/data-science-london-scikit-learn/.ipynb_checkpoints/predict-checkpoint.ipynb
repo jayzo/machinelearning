{
 "cells": [
  {
   "cell_type": "code",
   "execution_count": 1,
   "metadata": {
    "collapsed": true
   },
   "outputs": [],
   "source": [
    "home = \"/Users/zhili/src/zuojie/machinelearning/kaggle/data-science-london-scikit-learn\""
   ]
  },
  {
   "cell_type": "code",
   "execution_count": 51,
   "metadata": {},
   "outputs": [
    {
     "name": "stderr",
     "output_type": "stream",
     "text": [
      "/Users/zhili/.pyenv/versions/anaconda3-5.0.0/lib/python3.6/site-packages/sklearn/cross_validation.py:41: DeprecationWarning: This module was deprecated in version 0.18 in favor of the model_selection module into which all the refactored classes and functions are moved. Also note that the interface of the new CV iterators are different from that of this module. This module will be removed in 0.20.\n",
      "  \"This module will be removed in 0.20.\", DeprecationWarning)\n",
      "/Users/zhili/.pyenv/versions/anaconda3-5.0.0/lib/python3.6/site-packages/sklearn/grid_search.py:42: DeprecationWarning: This module was deprecated in version 0.18 in favor of the model_selection module into which all the refactored classes and functions are moved. This module will be removed in 0.20.\n",
      "  DeprecationWarning)\n"
     ]
    }
   ],
   "source": [
    "import numpy as np\n",
    "# Matplotlib for additional customization\n",
    "from matplotlib import pyplot as plt\n",
    "# Seaborn for plotting and styling\n",
    "import seaborn as sns\n",
    "from sklearn.linear_model import LinearRegression\n",
    "from sklearn import datasets, linear_model, discriminant_analysis, model_selection, metrics\n",
    "from sklearn.ensemble import GradientBoostingRegressor, GradientBoostingClassifier\n",
    "from sklearn.grid_search import GridSearchCV"
   ]
  },
  {
   "cell_type": "code",
   "execution_count": 3,
   "metadata": {
    "collapsed": true
   },
   "outputs": [],
   "source": [
    "def load_data(home):\n",
    "    X_train = np.loadtxt(home + '/data/train/train.csv', delimiter=\",\")\n",
    "    y_train = np.loadtxt(home + '/data/train/trainLabels.csv', delimiter=\",\")\n",
    "    return model_selection.train_test_split(X_train, y_train, test_size=0.1, random_state=None, stratify=y_train)\n",
    "    # return model_selection.train_test_split(X_train, y_train, test_size=0.1, random_state=None)\n"
   ]
  },
  {
   "cell_type": "code",
   "execution_count": 5,
   "metadata": {},
   "outputs": [],
   "source": [
    "X_train, X_test, y_train, y_test = load_data(home)"
   ]
  },
  {
   "cell_type": "code",
   "execution_count": 13,
   "metadata": {
    "collapsed": true
   },
   "outputs": [],
   "source": [
    "X_predict = np.loadtxt(home + '/data/test/test.csv', delimiter=\",\")"
   ]
  },
  {
   "cell_type": "code",
   "execution_count": 49,
   "metadata": {},
   "outputs": [],
   "source": [
    "def use_gbdt(home, X_train, X_test, y_train, y_test,X_predict):\n",
    "#     gbdt=GradientBoostingClassifier(\n",
    "#         random_state=10\n",
    "#     )\n",
    "#     gbdt.fit(X_train,y_train)\n",
    "#     y_pred = gbdt.predict(X_test)\n",
    "#     y_predprob = gbdt.predict_proba(X_test)[:,1]\n",
    "#     print(\"Accuracy : %.4g\" % metrics.accuracy_score(y_test, y_pred))\n",
    "#     print(\"AUC Score (Train): %f\" % metrics.roc_auc_score(y_test, y_predprob))\n",
    "    param_test1 = {'n_estimators':range(20,81,10)}\n",
    "    gsearch1 = GridSearchCV(estimator = GradientBoostingClassifier(learning_rate=0.1, min_samples_split=300,\n",
    "                                      min_samples_leaf=20,max_depth=8,max_features='sqrt', subsample=0.8,random_state=10), \n",
    "                           param_grid = param_test1, scoring='roc_auc',iid=False,cv=5)\n",
    "    gsearch1.fit(X_train,y_train)\n",
    "    gsearch1.grid_scores_, gsearch1.best_params_, gsearch1.best_score_"
   ]
  },
  {
   "cell_type": "code",
   "execution_count": 50,
   "metadata": {},
   "outputs": [
    {
     "name": "stdout",
     "output_type": "stream",
     "text": [
      "Accuracy : 0.81\n",
      "AUC Score (Train): 0.905562\n"
     ]
    }
   ],
   "source": [
    "use_gbdt(home, X_train, X_test, y_train, y_test,X_predict)"
   ]
  },
  {
   "cell_type": "code",
   "execution_count": null,
   "metadata": {
    "collapsed": true
   },
   "outputs": [],
   "source": [
    "param_test1 = {'n_estimators':range(20,81,10)}\n",
    "gsearch1 = GridSearchCV(estimator = GradientBoostingClassifier(learning_rate=0.1, min_samples_split=300,\n",
    "                                  min_samples_leaf=20,max_depth=8,max_features='sqrt', subsample=0.8,random_state=10), \n",
    "                       param_grid = param_test1, scoring='roc_auc',iid=False,cv=5)\n",
    "gsearch1.fit(X,y)\n",
    "gsearch1.grid_scores_, gsearch1.best_params_, gsearch1.best_score_"
   ]
  }
 ],
 "metadata": {
  "kernelspec": {
   "display_name": "Python 3",
   "language": "python",
   "name": "python3"
  },
  "language_info": {
   "codemirror_mode": {
    "name": "ipython",
    "version": 3
   },
   "file_extension": ".py",
   "mimetype": "text/x-python",
   "name": "python",
   "nbconvert_exporter": "python",
   "pygments_lexer": "ipython3",
   "version": "3.6.2"
  }
 },
 "nbformat": 4,
 "nbformat_minor": 2
}
